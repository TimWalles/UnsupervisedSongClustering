{
 "cells": [
  {
   "cell_type": "code",
   "execution_count": null,
   "metadata": {},
   "outputs": [],
   "source": [
    "%load_ext autoreload\n",
    "%autoreload 2"
   ]
  },
  {
   "cell_type": "code",
   "execution_count": null,
   "metadata": {},
   "outputs": [],
   "source": [
    "import pandas as pd\n",
    "from sklearn.preprocessing import StandardScaler, MinMaxScaler, PowerTransformer, RobustScaler, QuantileTransformer\n",
    "from sklearn.cluster import BisectingKMeans\n",
    "import matplotlib.pyplot as plt\n",
    "\n",
    "from src.analysis.get_pca_config import get_pca_config\n",
    "from src.analysis.cluster_data import cluster_data"
   ]
  },
  {
   "cell_type": "code",
   "execution_count": null,
   "metadata": {},
   "outputs": [],
   "source": [
    "plt.style.use(\"dark_background\")"
   ]
  },
  {
   "cell_type": "code",
   "execution_count": null,
   "metadata": {},
   "outputs": [],
   "source": [
    "# set seed for reproducibility\n",
    "seed = 123"
   ]
  },
  {
   "cell_type": "code",
   "execution_count": null,
   "metadata": {},
   "outputs": [],
   "source": [
    "audio_df = pd.read_csv('./data/df_audio_features_5000.csv', index_col=0)\n",
    "audio_df.head()"
   ]
  },
  {
   "cell_type": "markdown",
   "metadata": {},
   "source": [
    "Two columns, id and html we don't need for our analysis. Furthermore the .csv was probably saved with index on resulting in \"unnamed: 0\" column.\n",
    "Let's start with cleaning the columns"
   ]
  },
  {
   "cell_type": "code",
   "execution_count": null,
   "metadata": {},
   "outputs": [],
   "source": [
    "# check column naming\n",
    "audio_df.columns"
   ]
  },
  {
   "cell_type": "markdown",
   "metadata": {},
   "source": [
    "## data cleaning\n",
    "The column names contain many whitespaces that should be removed before we can drop any columns"
   ]
  },
  {
   "cell_type": "code",
   "execution_count": null,
   "metadata": {},
   "outputs": [],
   "source": [
    "# clean up column names\n",
    "audio_df.columns = audio_df.columns.str.replace(' ', '')\n",
    "audio_df.columns"
   ]
  },
  {
   "cell_type": "code",
   "execution_count": null,
   "metadata": {},
   "outputs": [],
   "source": [
    "# drop weird first column and other unneeded columns\n",
    "audio_df = audio_df.drop(columns=['type', 'id', 'html'])\n",
    "audio_df"
   ]
  },
  {
   "cell_type": "code",
   "execution_count": null,
   "metadata": {},
   "outputs": [],
   "source": [
    "# check for duplicates\n",
    "print(f\"Number of duplicated rows in the data is: {audio_df.duplicated().sum()}\")"
   ]
  },
  {
   "cell_type": "code",
   "execution_count": null,
   "metadata": {},
   "outputs": [],
   "source": [
    "# remove duplicates\n",
    "audio_df.drop_duplicates(inplace=True)\n",
    "print(f\"Number of duplicated rows in the data is after cleaning: {audio_df.duplicated().sum()}\")"
   ]
  },
  {
   "cell_type": "code",
   "execution_count": null,
   "metadata": {},
   "outputs": [],
   "source": [
    "# check for empty values\n",
    "audio_df.isnull().sum()"
   ]
  },
  {
   "cell_type": "code",
   "execution_count": null,
   "metadata": {},
   "outputs": [],
   "source": [
    "audio_df.info()"
   ]
  },
  {
   "cell_type": "markdown",
   "metadata": {},
   "source": [
    "## Data preparations"
   ]
  },
  {
   "cell_type": "code",
   "execution_count": null,
   "metadata": {},
   "outputs": [],
   "source": [
    "# set indices\n",
    "audio_df.set_index(['name', 'artist'], inplace=True)\n",
    "audio_df.head()"
   ]
  },
  {
   "cell_type": "markdown",
   "metadata": {},
   "source": [
    "Further consideration of column to be dropped\n",
    "duration_ms and time_signature"
   ]
  },
  {
   "cell_type": "code",
   "execution_count": null,
   "metadata": {},
   "outputs": [],
   "source": [
    "# drop duration_ms\n",
    "audio_df.drop(['duration_ms'], inplace=True)"
   ]
  },
  {
   "cell_type": "code",
   "execution_count": null,
   "metadata": {},
   "outputs": [],
   "source": [
    "# set scaler\n",
    "scalers = [\n",
    "    StandardScaler(),\n",
    "    MinMaxScaler(),\n",
    "    RobustScaler(),\n",
    "    QuantileTransformer(n_quantiles=audio_df.shape[0]),\n",
    "    PowerTransformer(),\n",
    "]\n",
    "scaler_names = [\n",
    "    'standard scaler',\n",
    "    'minmax scaler',\n",
    "    'robust scaler',\n",
    "    'quantile scaler',\n",
    "    'power scaler',\n",
    "]"
   ]
  },
  {
   "cell_type": "code",
   "execution_count": null,
   "metadata": {},
   "outputs": [],
   "source": [
    "# get pca components for different scalers\n",
    "for scaler_name, scaler in zip(scaler_names, scalers):\n",
    "    get_pca_config(\n",
    "        df=audio_df,\n",
    "        scaler_name=scaler_name,\n",
    "        scaler=scaler,\n",
    "        normalize=False,\n",
    "    )"
   ]
  },
  {
   "cell_type": "code",
   "execution_count": null,
   "metadata": {},
   "outputs": [],
   "source": [
    "# set number of clusters for each scaler\n",
    "pca = True  # use pca\n",
    "pca_components = [3, 5, 7, 3, 10]\n",
    "n_clusters = 25\n",
    "\n",
    "for scaler_name, scaler, pca_component in zip(scaler_names, scalers, pca_components):\n",
    "    _ = cluster_data(\n",
    "        df=audio_df,\n",
    "        scaler_name=scaler_name,\n",
    "        scaler=scaler,\n",
    "        cluster_alg=BisectingKMeans(n_clusters=n_clusters, n_init=3, random_state=seed),\n",
    "        normalize=False,\n",
    "        pca=pca,\n",
    "        pca_comp=pca_component,\n",
    "        verbose=True,\n",
    "    )"
   ]
  },
  {
   "cell_type": "markdown",
   "metadata": {},
   "source": [
    "# normalize"
   ]
  },
  {
   "cell_type": "code",
   "execution_count": null,
   "metadata": {},
   "outputs": [],
   "source": [
    "# get pca components for different scalers\n",
    "for scaler_name, scaler in zip(scaler_names, scalers):\n",
    "    get_pca_config(\n",
    "        df=audio_df,\n",
    "        scaler_name=scaler_name,\n",
    "        scaler=scaler,\n",
    "        normalize=True,\n",
    "    )"
   ]
  },
  {
   "cell_type": "code",
   "execution_count": null,
   "metadata": {},
   "outputs": [],
   "source": [
    "pca = True  # use pca\n",
    "pca_components = [8, 5, 7, 3, 4]  # int to keep x-amount of parameters or float to keep x amount of variance\n",
    "n_clusters = 25\n",
    "\n",
    "for scaler_name, scaler, pca_component in zip(scaler_names, scalers, pca_components):\n",
    "    _ = cluster_data(\n",
    "        df=audio_df,\n",
    "        scaler_name=scaler_name,\n",
    "        scaler=scaler,\n",
    "        cluster_alg=BisectingKMeans(n_clusters=n_clusters, n_init=1, random_state=seed),\n",
    "        normalize=True,\n",
    "        pca=pca,\n",
    "        pca_comp=pca_component,\n",
    "        verbose=True,\n",
    "    )"
   ]
  },
  {
   "cell_type": "code",
   "execution_count": null,
   "metadata": {},
   "outputs": [],
   "source": []
  }
 ],
 "metadata": {
  "kernelspec": {
   "display_name": "Python 3",
   "language": "python",
   "name": "python3"
  },
  "language_info": {
   "codemirror_mode": {
    "name": "ipython",
    "version": 3
   },
   "file_extension": ".py",
   "mimetype": "text/x-python",
   "name": "python",
   "nbconvert_exporter": "python",
   "pygments_lexer": "ipython3",
   "version": "3.11.6"
  }
 },
 "nbformat": 4,
 "nbformat_minor": 2
}
